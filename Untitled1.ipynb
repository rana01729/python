{
 "cells": [
  {
   "cell_type": "markdown",
   "metadata": {},
   "source": [
    "1. Write a function called rectangle that takes two integers m and n as arguments and prints out an m × n box consisting of asterisks."
   ]
  },
  {
   "cell_type": "code",
   "execution_count": 38,
   "metadata": {},
   "outputs": [
    {
     "name": "stdout",
     "output_type": "stream",
     "text": [
      "**********\n",
      "*        *\n",
      "*        *\n",
      "*        *\n",
      "**********\n"
     ]
    }
   ],
   "source": [
    "def recta (m,n):\n",
    "     for a in range (m):\n",
    "            \n",
    "        for b in range (n):\n",
    "            \n",
    "            print (\"*\" if a in [0, m - 1]or b in [0, n - 1] else \" \" , end =\"\")\n",
    "            \n",
    "        print()    \n",
    "              \n",
    "              \n",
    "\n",
    "recta(5,10) "
   ]
  },
  {
   "cell_type": "markdown",
   "metadata": {},
   "source": [
    "2. Write a function called add_excitement that takes a list of strings and adds an exclamation point ( ! ) to the end of each string in the list. The program should modify the original list and not return anything."
   ]
  },
  {
   "cell_type": "code",
   "execution_count": 33,
   "metadata": {},
   "outputs": [],
   "source": [
    "def add_ex(a):\n",
    "\n",
    "    for b in a:\n",
    "        a=b+\"!\"\n",
    "        \n",
    "add_ex ([ 'hi''rahul''string',])       "
   ]
  },
  {
   "cell_type": "markdown",
   "metadata": {},
   "source": [
    "3. Write the same function except that it should not modify the original list and should instead return a new list."
   ]
  },
  {
   "cell_type": "code",
   "execution_count": 39,
   "metadata": {},
   "outputs": [
    {
     "name": "stdout",
     "output_type": "stream",
     "text": [
      "hi!rahul!"
     ]
    }
   ],
   "source": [
    "def add_ex(x):\n",
    "    \n",
    "    for y in x:\n",
    "        z=y+'!'\n",
    "        print (z,end='')\n",
    "        \n",
    "add_ex(['hi','rahul',]) "
   ]
  },
  {
   "cell_type": "markdown",
   "metadata": {},
   "source": [
    "4. The digital root of a number n is obtained as follows: Add up the digits n to get a new number. Add up the digits of that to get another new number. Keep doing this until you get a number that has only one digit. That number is the digital root. For example, if n = 45893 , we add up the digits to get 4 + 5 + 8 + 9 + 3 = 29 . We then add up the digits of 29 to get 2 + 9 = 11 . We then add up the digits of 11 to get 1 + 1 = 2 . Since 2 has only one digit, 2 is our digital root. Write a function that returns the digital root of an integer n ."
   ]
  },
  {
   "cell_type": "code",
   "execution_count": 60,
   "metadata": {
    "scrolled": true
   },
   "outputs": [
    {
     "data": {
      "text/plain": [
       "6"
      ]
     },
     "execution_count": 60,
     "metadata": {},
     "output_type": "execute_result"
    }
   ],
   "source": [
    "def root (num):\n",
    "    root = 0\n",
    "    while (num>10 or root > 10):\n",
    "        if (num<10):\n",
    "            root= root +num\n",
    "            num=root\n",
    "            root=0\n",
    "        else:\n",
    "            b=num%10\n",
    "            num= num//10\n",
    "            root= root + b\n",
    "    return root+num\n",
    "            \n",
    "root (123)            "
   ]
  },
  {
   "cell_type": "markdown",
   "metadata": {},
   "source": [
    "5. Write a function that takes an integer n and returns a random integer with exactly n digits. For instance, if n is 3, then 125 and 593 would be valid return values, but 093 would not because that is really 93, which is a two-digit number."
   ]
  },
  {
   "cell_type": "code",
   "execution_count": null,
   "metadata": {},
   "outputs": [],
   "source": [
    "def digits(z):\n",
    "    \n",
    "    n=str(ran(1,10*z))\n",
    "    flag=0\n",
    "    \n",
    "    for i in n:\n",
    "        if i = \"0\":\n",
    "            flag=1\n",
    "            \n",
    "    if flag = 0 and (n) = z:\n",
    "        print (n)\n",
    "        \n",
    "digits(3)   "
   ]
  },
  {
   "cell_type": "markdown",
   "metadata": {},
   "source": [
    "6. Write a function called matches that takes two strings as arguments and returns how many matches there are between the strings. A match is where the two strings have the same character at the same index. For instance, ' python ' and ' path ' match in the first, third, and fourth characters, so the function should return 3."
   ]
  },
  {
   "cell_type": "code",
   "execution_count": 40,
   "metadata": {},
   "outputs": [
    {
     "name": "stdout",
     "output_type": "stream",
     "text": [
      "First string: a\n",
      "Second string: b\n",
      "0\n"
     ]
    }
   ],
   "source": [
    "def matches(fst1, sce2):\n",
    "    \n",
    "    tmp = len(fst1)\n",
    "    cnt = 0\n",
    "    if(len(fst1) < len(sce2)):\n",
    "        \n",
    "        tmp = len(fst1)\n",
    "    for x in range(tmp):\n",
    "        \n",
    "        if fst1[x] == sce2[x]:\n",
    "            cnt += 1\n",
    "            \n",
    "    return cnt;\n",
    "\n",
    "fst1 = input(\"First string: \")\n",
    "\n",
    "sce2 = input(\"Second string: \")\n",
    "\n",
    "print(matches(fst1, sce2))"
   ]
  },
  {
   "cell_type": "markdown",
   "metadata": {},
   "source": [
    "7. Write a function called primes that is given a number n and returns a list of the first n primes. Let the default value of n be 100."
   ]
  },
  {
   "cell_type": "code",
   "execution_count": 41,
   "metadata": {},
   "outputs": [
    {
     "name": "stdout",
     "output_type": "stream",
     "text": [
      "2\n",
      "3\n",
      "5\n",
      "7\n",
      "11\n",
      "13\n",
      "17\n",
      "19\n",
      "23\n",
      "29\n",
      "31\n",
      "37\n",
      "41\n",
      "43\n",
      "47\n",
      "53\n",
      "59\n",
      "61\n",
      "67\n",
      "71\n",
      "73\n",
      "79\n",
      "83\n",
      "89\n",
      "97\n",
      "\n"
     ]
    }
   ],
   "source": [
    "def primes(n = 100):\n",
    "    \n",
    "    nmbr = 0\n",
    "    for a in range(2, n+1*100):\n",
    "        \n",
    "        flag = False\n",
    "        for b in range(2, a):\n",
    "            \n",
    "            if a % b == 0:\n",
    "                flag = True\n",
    "                break\n",
    "        if not flag:\n",
    "            print(a)\n",
    "            nmbr+=1\n",
    "            if(nmbr == n):\n",
    "                break\n",
    "    print()\n",
    "\n",
    "primes(25)"
   ]
  },
  {
   "cell_type": "markdown",
   "metadata": {},
   "source": [
    "8. Recall that if s is a string, then s.find( ' a ' ) will find the location of the first a in s . The problem is that it does not find the location of every a. Write a function called findall that given a string and a single character, returns a list containing all of the locations of that character in the string. It should return an empty list if there are no occurrences of the character in the string."
   ]
  },
  {
   "cell_type": "code",
   "execution_count": 59,
   "metadata": {},
   "outputs": [
    {
     "name": "stdout",
     "output_type": "stream",
     "text": [
      "0\n",
      "9\n"
     ]
    }
   ],
   "source": [
    "def findall(char, str):\n",
    "    \n",
    "    for x in range(len(str)):\n",
    "        \n",
    "        if str[x] == char:\n",
    "            \n",
    "            print(x)\n",
    "    \n",
    "\n",
    "str1 = \"asdsdsdsda\"\n",
    "findall('a', str1)\n",
    "findall('x', str1)"
   ]
  },
  {
   "cell_type": "code",
   "execution_count": null,
   "metadata": {},
   "outputs": [],
   "source": []
  }
 ],
 "metadata": {
  "kernelspec": {
   "display_name": "Python 3",
   "language": "python",
   "name": "python3"
  },
  "language_info": {
   "codemirror_mode": {
    "name": "ipython",
    "version": 3
   },
   "file_extension": ".py",
   "mimetype": "text/x-python",
   "name": "python",
   "nbconvert_exporter": "python",
   "pygments_lexer": "ipython3",
   "version": "3.7.0"
  }
 },
 "nbformat": 4,
 "nbformat_minor": 2
}
